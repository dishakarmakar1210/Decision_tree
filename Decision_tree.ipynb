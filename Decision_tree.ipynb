{
  "nbformat": 4,
  "nbformat_minor": 0,
  "metadata": {
    "colab": {
      "provenance": []
    },
    "kernelspec": {
      "name": "python3",
      "display_name": "Python 3"
    },
    "language_info": {
      "name": "python"
    }
  },
  "cells": [
    {
      "cell_type": "markdown",
      "source": [
        "1. What is a Decision Tree, and how does it work?\n",
        "\n",
        "--> A Decision Tree is a flow‑chart‑like model that recursively splits the data into subsets based on feature values, forming a tree of decision rules. Each internal node represents a test on a feature, every branch corresponds to an outcome of that test, and each leaf holds a predicted class (classification) or value (regression). The algorithm chooses splits that maximize “purity” in the child nodes, eventually yielding a set of simple, interpretable if‑then rules. During prediction, a sample follows the path defined by its feature values until it reaches a leaf, where the stored label/value is returned.\n",
        "\n",
        "---\n",
        "\n",
        "2. What are impurity measures in Decision Trees?\n",
        "\n",
        "--> Impurity measures quantify how mixed the classes are within a node. Common metrics are **Gini Impurity** and **Entropy**; lower values indicate purer nodes. The tree algorithm evaluates all candidate splits and selects the one that most reduces impurity (highest information gain) to create more homogeneous children. These measures guide the tree toward partitions that improve predictive accuracy.\n",
        "\n",
        "---\n",
        "\n",
        "3. What is the mathematical formula for Gini Impurity?\n",
        "\n",
        "--> For a node with $K$ classes and class proportions $p_1, p_2, …, p_K$, the Gini Impurity is\n",
        "\n",
        "$$\n",
        "\\text{Gini} \\;=\\; 1 - \\sum_{k=1}^{K} p_k^{\\,2}.\n",
        "$$\n",
        "\n",
        "It equals zero when the node is perfectly pure (all samples belong to one class) and approaches its maximum when classes are evenly mixed.\n",
        "\n",
        "---\n",
        "\n",
        "4. What is the mathematical formula for Entropy?\n",
        "\n",
        "--> Entropy (Shannon entropy) for a node with class proportions $p_k$ is\n",
        "\n",
        "$$\n",
        "\\text{Entropy} \\;=\\; - \\sum_{k=1}^{K} p_k \\log_2 p_k.\n",
        "$$\n",
        "\n",
        "Entropy is zero for a pure node and increases as the class distribution becomes more uniform, reaching its maximum at equal class proportions.\n",
        "\n",
        "---\n",
        "\n",
        "5. What is Information Gain, and how is it used in Decision Trees?\n",
        "\n",
        "--> Information Gain is the reduction in impurity achieved by splitting a node. Mathematically,\n",
        "\n",
        "$$\n",
        "\\text{IG} = \\text{Impurity(parent)} \\;-\\; \\bigl[\\,w_L \\,\\text{Impurity(left)} + w_R \\,\\text{Impurity(right)}\\bigr],\n",
        "$$\n",
        "\n",
        "where $w_L, w_R$ are the child weights (proportional sample counts). The algorithm evaluates IG for all possible splits and chooses the split with the highest gain, iteratively growing the tree.\n",
        "\n",
        "---\n",
        "\n",
        "6. What is the difference between Gini Impurity and Entropy?\n",
        "\n",
        "--> Both measure class mixing, but Gini is quadratic while Entropy is logarithmic. Gini often produces similar splits but is computationally lighter because it avoids logarithms, making it the default in many libraries. Entropy has stronger theoretical roots in information theory and can yield slightly different trees when class frequencies are extreme. In practice, their predictive performance is usually comparable.\n",
        "\n",
        "---\n",
        "\n",
        "7. What is the mathematical explanation behind Decision Trees?\n",
        "\n",
        "--> Decision Trees implement a greedy, top‑down search for a set of splitting rules that locally maximize impurity reduction. At each node, the algorithm evaluates every feature and possible split‑point, computes the weighted impurity of resulting children, and chooses the split with highest Information Gain. This heuristic search approximates the optimal partitioning of the feature space but doesn’t guarantee a globally optimal tree, trading exhaustive search for computational feasibility.\n",
        "\n",
        "---\n",
        "\n",
        "8. What is Pre‑Pruning in Decision Trees?\n",
        "\n",
        "--> Pre‑pruning (early stopping) halts tree growth before nodes become overly specific. Criteria include minimum samples per leaf, maximum depth, minimum impurity decrease, or maximum number of leaves. By limiting complexity during construction, pre‑pruning mitigates overfitting and reduces training time at the cost of potentially missing subtle patterns.\n",
        "\n",
        "---\n",
        "\n",
        "9. What is Post‑Pruning in Decision Trees?\n",
        "\n",
        "--> Post‑pruning first grows a full tree and then prunes back nodes that do not improve validation performance. Techniques like cost‑complexity pruning (CART) or reduced‑error pruning iteratively replace subtrees with leaves when the replacement lowers a penalty combining error and tree size. This two‑step approach often yields a simpler, more generalizable model than pre‑pruning alone.\n",
        "\n",
        "---\n",
        "\n",
        "10. What is the difference between Pre‑Pruning and Post‑Pruning?\n",
        "\n",
        "--> Pre‑pruning prevents certain splits from ever occurring, using heuristics during growth, whereas post‑pruning allows full growth and then removes unnecessary branches based on validation evidence. Pre‑pruning is faster but risks underfitting by stopping too early; post‑pruning is computationally heavier but typically achieves a better bias–variance trade‑off.\n",
        "\n",
        "---\n",
        "\n",
        "11. What is a Decision Tree Regressor?\n",
        "\n",
        "--> A Decision Tree Regressor predicts continuous outputs by partitioning the feature space and storing an average target value in each leaf. Splits are chosen by minimizing variance (mean‑squared error) instead of classification impurity. The resulting piecewise‑constant function can capture non‑linear relationships but may produce sharp discontinuities at split boundaries.\n",
        "\n",
        "---\n",
        "\n",
        "12. What are the advantages and disadvantages of Decision Trees?\n",
        "\n",
        "--> *Advantages*: easy to interpret, handle mixed data types, require little preprocessing, capture non‑linear relations, and scale to large datasets.\n",
        "*Disadvantages*: prone to overfitting, unstable (small data changes can alter the tree), biased toward splits with many levels, and less accurate than ensemble methods like Random Forests or Gradient Boosting.\n",
        "\n",
        "---\n",
        "\n",
        "13. How does a Decision Tree handle missing values?\n",
        "\n",
        "--> Many implementations use surrogate splits: if the primary feature is missing, the algorithm follows an alternative split that best mimics the primary decision. Simpler approaches include sending missing values to the child with higher sample weight or treating “missing” as its own categorical level. Nonetheless, preprocessing imputation is often recommended for consistent behavior.\n",
        "\n",
        "---\n",
        "\n",
        "14. How does a Decision Tree handle categorical features?\n",
        "\n",
        "--> A categorical feature is partitioned by grouping its categories: the algorithm searches all (or heuristically selected) subsets of categories for the split that maximizes Information Gain. Some libraries (e.g., CART in scikit‑learn v1.1+) handle this natively; others require one‑hot or ordinal encoding. Decision Trees naturally support non‑ordinal splits without assuming numeric order.\n",
        "\n",
        "---\n",
        "\n",
        "15. What are some real‑world applications of Decision Trees?\n",
        "\n",
        "--> Decision Trees underpin credit‑risk scoring, medical diagnosis support, churn prediction, customer segmentation, and rule‑based fraud detection because their transparent rules aid regulatory compliance. In operations, they guide decision‑support systems for loan approval, equipment maintenance (predictive failure), and marketing campaign targeting. They also serve as base learners in ensemble methods powering winning Kaggle solutions.\n",
        "\n",
        "---\n"
      ],
      "metadata": {
        "id": "52nQWNsiCDSI"
      }
    },
    {
      "cell_type": "code",
      "source": [
        "#Write a Python program to train a Decision Tree Classifier on the Iris dataset and print the model accuracy\n",
        "from sklearn.datasets import load_iris\n",
        "from sklearn.tree import DecisionTreeClassifier\n",
        "from sklearn.model_selection import train_test_split\n",
        "from sklearn.metrics import accuracy_score\n",
        "\n",
        "# Load the Iris dataset\n",
        "iris = load_iris()\n",
        "X = iris.data\n",
        "y = iris.target\n",
        "\n",
        "# Train-test split\n",
        "X_train, X_test, y_train, y_test = train_test_split(X, y, test_size=0.25, random_state=42, stratify=y)\n",
        "\n",
        "# Initialize and train Decision Tree\n",
        "clf = DecisionTreeClassifier(random_state=0)\n",
        "clf.fit(X_train, y_train)\n",
        "\n",
        "# Predict and evaluate\n",
        "y_pred = clf.predict(X_test)\n",
        "accuracy = accuracy_score(y_test, y_pred)\n",
        "\n",
        "print(f\"Decision Tree Accuracy on Iris dataset: {accuracy:.3f}\")\n"
      ],
      "metadata": {
        "colab": {
          "base_uri": "https://localhost:8080/"
        },
        "id": "BHrs_SOUENlH",
        "outputId": "002df639-97e9-43f2-c07b-00ca7db8c242"
      },
      "execution_count": 1,
      "outputs": [
        {
          "output_type": "stream",
          "name": "stdout",
          "text": [
            "Decision Tree Accuracy on Iris dataset: 0.921\n"
          ]
        }
      ]
    },
    {
      "cell_type": "code",
      "source": [
        "#Write a Python program to train a Decision Tree Classifier using Gini Impurity as the criterion and print the feature importances\n",
        "from sklearn.datasets import load_iris\n",
        "from sklearn.tree import DecisionTreeClassifier\n",
        "from sklearn.model_selection import train_test_split\n",
        "\n",
        "data = load_iris()\n",
        "X, y = data.data, data.target\n",
        "X_train, X_test, y_train, y_test = train_test_split(X, y, stratify=y, random_state=0)\n",
        "\n",
        "clf = DecisionTreeClassifier(criterion='gini', random_state=0)\n",
        "clf.fit(X_train, y_train)\n",
        "\n",
        "print(\"Feature importances:\")\n",
        "for name, score in zip(data.feature_names, clf.feature_importances_):\n",
        "    print(f\"{name}: {score:.3f}\")\n"
      ],
      "metadata": {
        "colab": {
          "base_uri": "https://localhost:8080/"
        },
        "id": "9CbiNPFEEaGu",
        "outputId": "b8af0891-c98a-49a7-9c96-1977d9c8b1c5"
      },
      "execution_count": 2,
      "outputs": [
        {
          "output_type": "stream",
          "name": "stdout",
          "text": [
            "Feature importances:\n",
            "sepal length (cm): 0.018\n",
            "sepal width (cm): 0.000\n",
            "petal length (cm): 0.030\n",
            "petal width (cm): 0.953\n"
          ]
        }
      ]
    },
    {
      "cell_type": "code",
      "source": [
        "#Write a Python program to train a Decision Tree Classifier using Entropy as the splitting criterion and print the model accuracy\n",
        "from sklearn.datasets import load_iris\n",
        "from sklearn.tree import DecisionTreeClassifier\n",
        "from sklearn.model_selection import train_test_split\n",
        "from sklearn.metrics import accuracy_score\n",
        "\n",
        "# Load the Iris dataset\n",
        "iris = load_iris()\n",
        "X = iris.data\n",
        "y = iris.target\n",
        "\n",
        "# Split the dataset into training and testing sets\n",
        "X_train, X_test, y_train, y_test = train_test_split(X, y, test_size=0.25, random_state=42, stratify=y)\n",
        "\n",
        "# Train a Decision Tree using Entropy as the splitting criterion\n",
        "clf = DecisionTreeClassifier(criterion='entropy', random_state=0)\n",
        "clf.fit(X_train, y_train)\n",
        "\n",
        "# Predict and evaluate\n",
        "y_pred = clf.predict(X_test)\n",
        "accuracy = accuracy_score(y_test, y_pred)\n",
        "\n",
        "print(\"Decision Tree Accuracy using Entropy:\", round(accuracy, 3))\n"
      ],
      "metadata": {
        "colab": {
          "base_uri": "https://localhost:8080/"
        },
        "id": "nvs1bRhlFuuK",
        "outputId": "773ca8c6-fb7c-442a-b444-87c86c705b21"
      },
      "execution_count": 3,
      "outputs": [
        {
          "output_type": "stream",
          "name": "stdout",
          "text": [
            "Decision Tree Accuracy using Entropy: 0.921\n"
          ]
        }
      ]
    },
    {
      "cell_type": "code",
      "source": [
        "#  Write a Python program to train a Decision Tree Regressor on a housing dataset and evaluate using Mean Squared Error (MSE)\n",
        "from sklearn.datasets import fetch_california_housing\n",
        "from sklearn.tree import DecisionTreeRegressor\n",
        "from sklearn.model_selection import train_test_split\n",
        "from sklearn.metrics import mean_squared_error\n",
        "\n",
        "data = fetch_california_housing()\n",
        "X, y = data.data, data.target\n",
        "X_train, X_test, y_train, y_test = train_test_split(X, y, random_state=0)\n",
        "\n",
        "reg = DecisionTreeRegressor(random_state=0)\n",
        "reg.fit(X_train, y_train)\n",
        "\n",
        "y_pred = reg.predict(X_test)\n",
        "print(\"Mean Squared Error:\", mean_squared_error(y_test, y_pred))\n"
      ],
      "metadata": {
        "colab": {
          "base_uri": "https://localhost:8080/"
        },
        "id": "TxK4xrOTGF--",
        "outputId": "dff2fdf2-683e-47c0-bdcc-34aa1d8f768b"
      },
      "execution_count": 4,
      "outputs": [
        {
          "output_type": "stream",
          "name": "stdout",
          "text": [
            "Mean Squared Error: 0.5501739317092635\n"
          ]
        }
      ]
    },
    {
      "cell_type": "code",
      "source": [
        "# Write a Python program to train a Decision Tree Classifier with a maximum depth of 3 and compare its accuracy with a fully grown tree\n",
        "\n",
        "from sklearn.datasets import load_iris\n",
        "from sklearn.tree import DecisionTreeClassifier\n",
        "from sklearn.metrics import accuracy_score\n",
        "from sklearn.model_selection import train_test_split\n",
        "\n",
        "data = load_iris()\n",
        "X, y = data.data, data.target\n",
        "X_train, X_test, y_train, y_test = train_test_split(X, y, stratify=y, random_state=0)\n",
        "\n",
        "clf_default = DecisionTreeClassifier(random_state=0)\n",
        "clf_default.fit(X_train, y_train)\n",
        "\n",
        "clf_limited = DecisionTreeClassifier(max_depth=3, random_state=0)\n",
        "clf_limited.fit(X_train, y_train)\n",
        "\n",
        "acc_full = accuracy_score(y_test, clf_default.predict(X_test))\n",
        "acc_limited = accuracy_score(y_test, clf_limited.predict(X_test))\n",
        "\n",
        "print(f\"Full tree accuracy      : {acc_full:.3f}\")\n",
        "print(f\"Max depth = 3 accuracy  : {acc_limited:.3f}\")\n"
      ],
      "metadata": {
        "colab": {
          "base_uri": "https://localhost:8080/"
        },
        "id": "WrLu5xsDGSOp",
        "outputId": "4becc7e7-3cab-48a7-b9a2-fb515a9a4cd9"
      },
      "execution_count": 5,
      "outputs": [
        {
          "output_type": "stream",
          "name": "stdout",
          "text": [
            "Full tree accuracy      : 0.974\n",
            "Max depth = 3 accuracy  : 0.947\n"
          ]
        }
      ]
    },
    {
      "cell_type": "code",
      "source": [
        "# Write a Python program to train a Decision Tree Classifier using min_samples_split=5 and compare its accuracy with a default tree\n",
        "from sklearn.datasets import load_iris\n",
        "from sklearn.tree import DecisionTreeClassifier\n",
        "from sklearn.model_selection import train_test_split\n",
        "from sklearn.metrics import accuracy_score\n",
        "\n",
        "data = load_iris()\n",
        "X, y = data.data, data.target\n",
        "X_train, X_test, y_train, y_test = train_test_split(X, y, stratify=y, random_state=0)\n",
        "\n",
        "clf_default = DecisionTreeClassifier(random_state=0)\n",
        "clf_split5 = DecisionTreeClassifier(min_samples_split=5, random_state=0)\n",
        "\n",
        "clf_default.fit(X_train, y_train)\n",
        "clf_split5.fit(X_train, y_train)\n",
        "\n",
        "acc_default = accuracy_score(y_test, clf_default.predict(X_test))\n",
        "acc_split5 = accuracy_score(y_test, clf_split5.predict(X_test))\n",
        "\n",
        "print(f\"Default min_samples_split accuracy: {acc_default:.3f}\")\n",
        "print(f\"min_samples_split=5 accuracy      : {acc_split5:.3f}\")\n"
      ],
      "metadata": {
        "colab": {
          "base_uri": "https://localhost:8080/"
        },
        "id": "IrYqRLDQHfMY",
        "outputId": "cd326c25-2ac6-4048-9735-252e97e50574"
      },
      "execution_count": 6,
      "outputs": [
        {
          "output_type": "stream",
          "name": "stdout",
          "text": [
            "Default min_samples_split accuracy: 0.974\n",
            "min_samples_split=5 accuracy      : 0.947\n"
          ]
        }
      ]
    },
    {
      "cell_type": "code",
      "source": [
        "#Write a Python program to apply feature scaling before training a Decision Tree Classifier and compare its accuracy with unscaled data\n",
        "from sklearn.datasets import load_iris\n",
        "from sklearn.preprocessing import StandardScaler\n",
        "from sklearn.model_selection import train_test_split\n",
        "from sklearn.metrics import accuracy_score\n",
        "from sklearn.tree import DecisionTreeClassifier\n",
        "from sklearn.pipeline import Pipeline\n",
        "\n",
        "data = load_iris()\n",
        "X, y = data.data, data.target\n",
        "X_train, X_test, y_train, y_test = train_test_split(X, y, stratify=y, random_state=0)\n",
        "\n",
        "# Without scaling\n",
        "clf_plain = DecisionTreeClassifier(random_state=0)\n",
        "clf_plain.fit(X_train, y_train)\n",
        "acc_plain = accuracy_score(y_test, clf_plain.predict(X_test))\n",
        "\n",
        "# With scaling\n",
        "pipe_scaled = Pipeline([\n",
        "    (\"scaler\", StandardScaler()),\n",
        "    (\"clf\", DecisionTreeClassifier(random_state=0))\n",
        "])\n",
        "pipe_scaled.fit(X_train, y_train)\n",
        "acc_scaled = accuracy_score(y_test, pipe_scaled.predict(X_test))\n",
        "\n",
        "print(f\"Accuracy without scaling: {acc_plain:.3f}\")\n",
        "print(f\"Accuracy with scaling   : {acc_scaled:.3f}\")\n"
      ],
      "metadata": {
        "colab": {
          "base_uri": "https://localhost:8080/"
        },
        "id": "zX_gqEffHstd",
        "outputId": "d3c25f1c-98e5-45e3-8d4e-c6317da12ab4"
      },
      "execution_count": 7,
      "outputs": [
        {
          "output_type": "stream",
          "name": "stdout",
          "text": [
            "Accuracy without scaling: 0.974\n",
            "Accuracy with scaling   : 0.974\n"
          ]
        }
      ]
    },
    {
      "cell_type": "code",
      "source": [
        "#Write a Python program to train a Decision Tree Classifier using One-vs-Rest (OvR) strategy for multiclass classification\n",
        "from sklearn.datasets import load_iris\n",
        "from sklearn.tree import DecisionTreeClassifier\n",
        "from sklearn.multiclass import OneVsRestClassifier\n",
        "from sklearn.model_selection import train_test_split\n",
        "from sklearn.metrics import accuracy_score\n",
        "\n",
        "X, y = load_iris(return_X_y=True)\n",
        "X_train, X_test, y_train, y_test = train_test_split(X, y, stratify=y, random_state=42)\n",
        "\n",
        "model = OneVsRestClassifier(DecisionTreeClassifier(random_state=0))\n",
        "model.fit(X_train, y_train)\n",
        "\n",
        "y_pred = model.predict(X_test)\n",
        "print(\"OvR Decision Tree Accuracy:\", round(accuracy_score(y_test, y_pred), 3))\n"
      ],
      "metadata": {
        "colab": {
          "base_uri": "https://localhost:8080/"
        },
        "id": "aEL-JgXBH18n",
        "outputId": "54c1bf3c-a8f8-47a4-e0ca-20fbcc078aac"
      },
      "execution_count": 8,
      "outputs": [
        {
          "output_type": "stream",
          "name": "stdout",
          "text": [
            "OvR Decision Tree Accuracy: 0.921\n"
          ]
        }
      ]
    },
    {
      "cell_type": "code",
      "source": [
        "#Write a Python program to train a Decision Tree Classifier and display the feature importance scores\n",
        "from sklearn.datasets import load_iris\n",
        "from sklearn.tree import DecisionTreeClassifier\n",
        "from sklearn.model_selection import train_test_split\n",
        "\n",
        "data = load_iris()\n",
        "X, y = data.data, data.target\n",
        "X_train, X_test, y_train, y_test = train_test_split(X, y, stratify=y, random_state=42)\n",
        "\n",
        "clf = DecisionTreeClassifier(random_state=0)\n",
        "clf.fit(X_train, y_train)\n",
        "\n",
        "print(\"Feature importances:\")\n",
        "for name, score in zip(data.feature_names, clf.feature_importances_):\n",
        "    print(f\"{name}: {score:.3f}\")\n"
      ],
      "metadata": {
        "colab": {
          "base_uri": "https://localhost:8080/"
        },
        "id": "INt0BRL4IELB",
        "outputId": "00586e3f-68df-464a-cb80-34d45bc3ad71"
      },
      "execution_count": 9,
      "outputs": [
        {
          "output_type": "stream",
          "name": "stdout",
          "text": [
            "Feature importances:\n",
            "sepal length (cm): 0.013\n",
            "sepal width (cm): 0.000\n",
            "petal length (cm): 0.429\n",
            "petal width (cm): 0.558\n"
          ]
        }
      ]
    },
    {
      "cell_type": "code",
      "source": [
        "#Write a Python program to train a Decision Tree Regressor with max_depth=5 and compare its performance with an unrestricted tree\n",
        "from sklearn.datasets import fetch_california_housing\n",
        "from sklearn.tree import DecisionTreeRegressor\n",
        "from sklearn.model_selection import train_test_split\n",
        "from sklearn.metrics import mean_squared_error\n",
        "\n",
        "X, y = fetch_california_housing(return_X_y=True)\n",
        "X_train, X_test, y_train, y_test = train_test_split(X, y, random_state=42)\n",
        "\n",
        "reg1 = DecisionTreeRegressor(max_depth=5, random_state=0)\n",
        "reg2 = DecisionTreeRegressor(random_state=0)  # full tree\n",
        "\n",
        "reg1.fit(X_train, y_train)\n",
        "reg2.fit(X_train, y_train)\n",
        "\n",
        "mse1 = mean_squared_error(y_test, reg1.predict(X_test))\n",
        "mse2 = mean_squared_error(y_test, reg2.predict(X_test))\n",
        "\n",
        "print(f\"MSE (max_depth=5): {mse1:.3f}\")\n",
        "print(f\"MSE (unrestricted): {mse2:.3f}\")\n"
      ],
      "metadata": {
        "colab": {
          "base_uri": "https://localhost:8080/"
        },
        "id": "M7HpRiKjIK0E",
        "outputId": "38833779-4566-40fa-f743-ffb8676c79bd"
      },
      "execution_count": 10,
      "outputs": [
        {
          "output_type": "stream",
          "name": "stdout",
          "text": [
            "MSE (max_depth=5): 0.527\n",
            "MSE (unrestricted): 0.517\n"
          ]
        }
      ]
    },
    {
      "cell_type": "code",
      "source": [
        "#Write a Python program to train a Decision Tree Classifier, apply Cost Complexity Pruning (CCP), and visualize its effect on accuracy\n",
        "from sklearn.datasets import load_iris\n",
        "from sklearn.tree import DecisionTreeClassifier\n",
        "from sklearn.model_selection import train_test_split\n",
        "from sklearn.metrics import accuracy_score\n",
        "import matplotlib.pyplot as plt\n",
        "\n",
        "X, y = load_iris(return_X_y=True)\n",
        "X_train, X_test, y_train, y_test = train_test_split(X, y, stratify=y, random_state=42)\n",
        "\n",
        "clf = DecisionTreeClassifier(random_state=0)\n",
        "path = clf.cost_complexity_pruning_path(X_train, y_train)\n",
        "ccp_alphas = path.ccp_alphas\n",
        "\n",
        "train_scores, test_scores = [], []\n",
        "for ccp in ccp_alphas:\n",
        "    tree = DecisionTreeClassifier(random_state=0, ccp_alpha=ccp)\n",
        "    tree.fit(X_train, y_train)\n",
        "    train_scores.append(tree.score(X_train, y_train))\n",
        "    test_scores.append(tree.score(X_test, y_test))\n",
        "\n",
        "plt.plot(ccp_alphas, train_scores, label=\"Train\")\n",
        "plt.plot(ccp_alphas, test_scores, label=\"Test\")\n",
        "plt.xlabel(\"ccp_alpha\"); plt.ylabel(\"Accuracy\")\n",
        "plt.title(\"Cost Complexity Pruning Curve\")\n",
        "plt.legend(); plt.show()\n"
      ],
      "metadata": {
        "colab": {
          "base_uri": "https://localhost:8080/",
          "height": 472
        },
        "id": "JpBJKK0CIR-p",
        "outputId": "62065061-0a2c-44a4-a9e2-4d953e407c0b"
      },
      "execution_count": 11,
      "outputs": [
        {
          "output_type": "display_data",
          "data": {
            "text/plain": [
              "<Figure size 640x480 with 1 Axes>"
            ],
            "image/png": "[encoded data removed]"
          },
          "metadata": {}
        }
      ]
    },
    {
      "cell_type": "code",
      "source": [
        "#Write a Python program to train a Decision Tree Classifier and evaluate its performance using Precision, Recall, and F1-Score\n",
        "from sklearn.datasets import load_iris\n",
        "from sklearn.tree import DecisionTreeClassifier\n",
        "from sklearn.metrics import classification_report\n",
        "from sklearn.model_selection import train_test_split\n",
        "\n",
        "X, y = load_iris(return_X_y=True)\n",
        "X_train, X_test, y_train, y_test = train_test_split(X, y, stratify=y, random_state=42)\n",
        "\n",
        "clf = DecisionTreeClassifier(random_state=0)\n",
        "clf.fit(X_train, y_train)\n",
        "\n",
        "y_pred = clf.predict(X_test)\n",
        "print(classification_report(y_test, y_pred, target_names=load_iris().target_names))\n"
      ],
      "metadata": {
        "colab": {
          "base_uri": "https://localhost:8080/"
        },
        "id": "rFmor6DZJhiG",
        "outputId": "5bb965a3-50c2-4545-b744-00c1a4ce7bed"
      },
      "execution_count": 12,
      "outputs": [
        {
          "output_type": "stream",
          "name": "stdout",
          "text": [
            "              precision    recall  f1-score   support\n",
            "\n",
            "      setosa       1.00      1.00      1.00        12\n",
            "  versicolor       0.86      0.92      0.89        13\n",
            "   virginica       0.92      0.85      0.88        13\n",
            "\n",
            "    accuracy                           0.92        38\n",
            "   macro avg       0.92      0.92      0.92        38\n",
            "weighted avg       0.92      0.92      0.92        38\n",
            "\n"
          ]
        }
      ]
    },
    {
      "cell_type": "code",
      "source": [
        "#Write a Python program to train a Decision Tree Classifier and visualize the confusion matrix using seaborn\n",
        "from sklearn.datasets import load_iris\n",
        "from sklearn.tree import DecisionTreeClassifier\n",
        "from sklearn.metrics import confusion_matrix\n",
        "from sklearn.model_selection import train_test_split\n",
        "import seaborn as sns\n",
        "import matplotlib.pyplot as plt\n",
        "\n",
        "X, y = load_iris(return_X_y=True)\n",
        "X_train, X_test, y_train, y_test = train_test_split(X, y, stratify=y, random_state=42)\n",
        "\n",
        "clf = DecisionTreeClassifier(random_state=0)\n",
        "clf.fit(X_train, y_train)\n",
        "\n",
        "y_pred = clf.predict(X_test)\n",
        "cm = confusion_matrix(y_test, y_pred)\n",
        "\n",
        "sns.heatmap(cm, annot=True, fmt='d', cmap='Blues', xticklabels=load_iris().target_names, yticklabels=load_iris().target_names)\n",
        "plt.xlabel(\"Predicted\"); plt.ylabel(\"True\")\n",
        "plt.title(\"Confusion Matrix\")\n",
        "plt.show()\n"
      ],
      "metadata": {
        "colab": {
          "base_uri": "https://localhost:8080/",
          "height": 472
        },
        "id": "O6QAGdMfJpw_",
        "outputId": "29ac171e-5f9a-49dd-ce93-7f2c97247dc5"
      },
      "execution_count": 13,
      "outputs": [
        {
          "output_type": "display_data",
          "data": {
            "text/plain": [
              "<Figure size 640x480 with 2 Axes>"
            ],
            "image/png": "[encoded data removed]"
          },
          "metadata": {}
        }
      ]
    },
    {
      "cell_type": "code",
      "source": [
        "#Write a Python program to train a Decision Tree Classifier and use GridSearchCV to find the optimal values for max_depth and min_samples_split.\n",
        "from sklearn.datasets import load_iris\n",
        "from sklearn.tree import DecisionTreeClassifier\n",
        "from sklearn.model_selection import GridSearchCV, train_test_split\n",
        "\n",
        "X, y = load_iris(return_X_y=True)\n",
        "X_train, X_test, y_train, y_test = train_test_split(X, y, stratify=y, random_state=42)\n",
        "\n",
        "param_grid = {\n",
        "    'max_depth': [2, 3, 4, 5, None],\n",
        "    'min_samples_split': [2, 5, 10]\n",
        "}\n",
        "\n",
        "grid = GridSearchCV(DecisionTreeClassifier(random_state=0), param_grid, cv=5)\n",
        "grid.fit(X_train, y_train)\n",
        "\n",
        "print(\"Best Parameters:\", grid.best_params_)\n",
        "print(\"Best Cross-Validation Accuracy:\", round(grid.best_score_, 3))\n"
      ],
      "metadata": {
        "colab": {
          "base_uri": "https://localhost:8080/"
        },
        "id": "tRiiPaI1J47a",
        "outputId": "d9c9abf2-ef52-4413-dbb9-6f1177ee4e6f"
      },
      "execution_count": 14,
      "outputs": [
        {
          "output_type": "stream",
          "name": "stdout",
          "text": [
            "Best Parameters: {'max_depth': 3, 'min_samples_split': 2}\n",
            "Best Cross-Validation Accuracy: 0.938\n"
          ]
        }
      ]
    }
  ]
}